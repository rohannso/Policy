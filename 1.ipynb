{
 "cells": [
  {
   "cell_type": "code",
   "execution_count": 35,
   "id": "1560ec14",
   "metadata": {},
   "outputs": [],
   "source": [
    "from langchain_community.document_loaders import PyMuPDFLoader\n",
    "\n",
    "# Initialize the loader with the file path\n",
    "loader = PyMuPDFLoader(\"BAJHLIP23020V012223.pdf\")\n",
    "\n",
    "\n",
    "# Load the documents\n",
    "docs = loader.load()\n"
   ]
  },
  {
   "cell_type": "code",
   "execution_count": 36,
   "id": "f7f47d31",
   "metadata": {},
   "outputs": [
    {
     "name": "stdout",
     "output_type": "stream",
     "text": [
      "Split into 49 chunks using RecursiveCharacterTextSplitter.\n"
     ]
    }
   ],
   "source": [
    "from langchain.text_splitter import RecursiveCharacterTextSplitter\n",
    "text_splitter = RecursiveCharacterTextSplitter(\n",
    "            chunk_size=512,\n",
    "            chunk_overlap=50,\n",
    "            length_function=len\n",
    "        )\n",
    "\n",
    "# Split the documents into chunks\n",
    "\n",
    "print(f\"Split into {len(docs)} chunks using RecursiveCharacterTextSplitter.\")"
   ]
  },
  {
   "cell_type": "code",
   "execution_count": 37,
   "id": "725b999f",
   "metadata": {},
   "outputs": [
    {
     "name": "stdout",
     "output_type": "stream",
     "text": [
      "\n",
      "--- Content of the first chunk ---\n",
      "UIN- BAJHLIP23020V012223 \n",
      "                                Global Health Care/ Policy Wordings/Page 1 \n",
      " \n",
      " \n",
      "Bajaj Allianz General Insurance Co. Ltd.                       \n",
      "Bajaj Allianz House, Airport Road, Yerawada, Pune - 411 006. Reg. No.: 113 \n",
      "For more details, log on to: www.bajajallianz.com | E-mail: bagichelp@bajajallianz.co.in or \n",
      "Call at: Sales - 1800 209 0144 / Service - 1800 209 5858 (Toll Free No.) \n",
      "GLOBAL HEALTH CARE \n",
      " \n",
      "Policy Wordings \n",
      " \n",
      "UIN- BAJHLIP23020V012223 \n",
      "SECTION A) PREAMBLE \n",
      " \n",
      "Whereas the Insured described in the Policy Schedule hereto (hereinafter called the ‘Insured’ or “Policyholder” or \n",
      "“Insured Person”) has made to Bajaj Allianz General Insurance Company Limited (hereinafter called the “Company” \n",
      "or “Insurer” or “Insurance Company”) a proposal or Proposal as mentioned in the transcript of the Proposal, which \n",
      "shall be the basis of this Contract and is deemed to be incorporated herein, containing certain undertakings, \n",
      "declarations, information/particulars and statements, which is hereby agreed to be the basis of this Contract and be \n",
      "considered as incorporated herein, for the insurance Contract hereinafter contained and has paid the premium \n",
      "specified in the Policy Schedule hereto as consideration for such insurance Contract, now the Company agrees, \n",
      "subject always to the Policy Schedule and the following terms, conditions, exclusions, and limitations of the Policy, \n",
      "and in excess of the amount of the Deductible/Co-Payment, to indemnify the Insured in respect of an admissible \n",
      "claim in the manner and to the extent hereinafter stated. \n",
      " \n",
      "SECTION B) DEFINITIONS - STANDARD DEFINITIONS \n",
      "Words or terms mentioned below have the meaning ascribed to them wherever they appear in this Policy, and \n",
      "references to the singular or to the masculine, include references to the plural or to the feminine wherever the context \n",
      "permits. If any word starts with Capital alphabet but is not defined in the Standard Definitions or Specific Definitions, \n",
      "then such word shall be interpreted as per the headings of the respective clauses/points in these Policy Wordings. \n",
      " \n",
      "1. Accident:- \n",
      "An Accident means sudden, unforeseen and involuntary event caused by external, visible and violent means. \n",
      " \n",
      "2. Any one Illness:- \n",
      "Any one Illness means continuous Period of Illness and it includes relapse within 45 days from the date of last \n",
      "consultation with the Hospital/Nursing Home where treatment was taken. \n",
      " \n",
      "3. AYUSH Hospital:- \n",
      "An AYUSH Hospital is a healthcare facility wherein medical/surgical/para-surgical treatment procedures and \n",
      "interventions are carried out by AYUSH Medical Practitioner(s) comprising of any of the following: \n",
      "a. Central or State Government AYUSH Hospital; or \n",
      "b. Teaching Hospital attached to AYUSH College recognized by the Central Government/Central Council of \n",
      "Indian Medicine/Central Council for Homeopathy; or \n",
      "c. AYUSH Hospital, standalone or co-located with Inpatient healthcare facility of any recognized system of \n",
      "medicine, registered with the local authorities, wherever applicable, and is under the supervision of a qualified \n",
      "registered AYUSH Medical Practitioner and must comply with all the following criterion: \n",
      "i. Having at least 5 Inpatient beds; \n",
      "ii. Having qualified AYUSH Medical Practitioner in charge round the clock; \n",
      "iii. Having dedicated AYUSH therapy sections as required and/or has equipped operation theatre where \n",
      "surgical procedures are to be carried out; \n",
      "iv.Maintaining daily records of the patients and making them accessible to the Insurance Company’s \n",
      "authorized representative. \n",
      " \n",
      "4. \n",
      "AYUSH Day Care Centre:- \n",
      "AYUSH Day Care Centre means and includes Community Health Centre (CHC), Primary Health Centre (PHC), \n",
      "Dispensary, Clinic, Polyclinic or any such health centre which is registered with the local authorities, wherever \n",
      "applicable and having facilities for carrying out treatment procedures and medical or surgical/para-surgical \n",
      "interventions or both under the supervision of registered AYUSH Medical Practitioner (s) on Day Care Treatment \n",
      "basis without Inpatient services and must comply with all the following criterion: \n",
      "i. \n",
      "Having qualified registered AYUSH Medical Practitioner(s) in charge; \n",
      "ii. \n",
      "Having dedicated AYUSH therapy sections as required and/or has equipped operation theatre where \n",
      "surgical procedures are to be carried out; \n",
      "iii. \n",
      "Maintaining daily records of the patients and making them accessible to the  Insurance Company’s \n",
      "authorized representative.\n"
     ]
    }
   ],
   "source": [
    "print(\"\\n--- Content of the first chunk ---\")\n",
    "print(docs[0].page_content)"
   ]
  },
  {
   "cell_type": "code",
   "execution_count": 38,
   "id": "7fd564c7",
   "metadata": {},
   "outputs": [],
   "source": [
    "from langchain_huggingface import HuggingFaceEmbeddings\n",
    "embeddings = HuggingFaceEmbeddings(\n",
    "    model_name=\"all-MiniLM-L6-v2\"\n",
    ")\n"
   ]
  },
  {
   "cell_type": "code",
   "execution_count": 48,
   "id": "cf99b2c7",
   "metadata": {},
   "outputs": [],
   "source": [
    "# from langchain_qdrant import Qdrant\n",
    "# qdrant_location = \":memory:\"\n",
    "# collection_name = \"my_document_collection\"\n",
    "\n",
    "# vectorstore = Qdrant.from_documents(\n",
    "#     documents=docs,\n",
    "#     embedding=embeddings,\n",
    "#     location=qdrant_location,\n",
    "#     collection_name=collection_name,\n",
    "# )\n",
    "\n",
    "from langchain_qdrant import QdrantVectorStore\n",
    "from qdrant_client import QdrantClient\n",
    "from qdrant_client.http.models import Distance, VectorParams\n",
    "\n",
    "client = QdrantClient(\":memory:\")\n",
    "\n",
    "client.create_collection(\n",
    "    collection_name=\"demo_collection\",\n",
    "    vectors_config=VectorParams(size=384, distance=Distance.COSINE),\n",
    ")\n",
    "\n",
    "vector_store = QdrantVectorStore(\n",
    "    client=client,\n",
    "    collection_name=\"demo_collection\",\n",
    "    embedding=embeddings,\n",
    ")\n"
   ]
  },
  {
   "cell_type": "code",
   "execution_count": null,
   "id": "5e7b94ac",
   "metadata": {},
   "outputs": [
    {
     "name": "stdout",
     "output_type": "stream",
     "text": [
      "Vectorstore created with 49 documents in collection 'my_document_collection' at location ':memory:'.\n"
     ]
    }
   ],
   "source": []
  },
  {
   "cell_type": "code",
   "execution_count": 50,
   "id": "b59558a4",
   "metadata": {},
   "outputs": [],
   "source": [
    "from langchain.retrievers import ParentDocumentRetriever\n",
    "parent_splitter = RecursiveCharacterTextSplitter(chunk_size=500)\n",
    "\n",
    "# This splitter will create the small child chunks from the parent chunks\n",
    "# It should create small, semantically focused chunks.\n",
    "# Fix: Set a chunk_overlap smaller than the chunk_size.\n",
    "child_splitter = RecursiveCharacterTextSplitter(\n",
    "    chunk_size=100, \n",
    "    chunk_overlap=20  # A value smaller than 100\n",
    ")"
   ]
  },
  {
   "cell_type": "code",
   "execution_count": 51,
   "id": "26653de9",
   "metadata": {},
   "outputs": [],
   "source": [
    "from langchain.storage import InMemoryStore\n",
    "\n",
    "docstore = InMemoryStore()\n",
    "retriever = ParentDocumentRetriever(\n",
    "    vectorstore=vector_store,\n",
    "    docstore=docstore,\n",
    "    child_splitter=child_splitter,\n",
    "    parent_splitter=parent_splitter,\n",
    ")\n"
   ]
  },
  {
   "cell_type": "code",
   "execution_count": 52,
   "id": "1a51422f",
   "metadata": {},
   "outputs": [],
   "source": [
    "retriever.add_documents(docs, ids=None)"
   ]
  },
  {
   "cell_type": "code",
   "execution_count": 53,
   "id": "7c095af3",
   "metadata": {},
   "outputs": [
    {
     "name": "stdout",
     "output_type": "stream",
     "text": [
      "\n",
      "--- Retrieved Documents for query: 'Is eye surgery covered?' ---\n",
      "\n",
      "--- Parent Chunk ---\n",
      "coverage. \n",
      "d. Coverage under the Policy after the expiry of 36 months for any Pre-Existing Disease is subject to the same \n",
      "being declared at the time of application and accepted by Insurer. \n",
      " \n",
      "2) Specified disease/procedure waiting period (Code - Excl02) \n",
      "a. Expenses related to the treatment of the listed Conditions, surgeries/treatments shall be excluded until the \n",
      "expiry of 24 months of continuous coverage after the date of inception of the first Global Health Care Policy\n",
      "{'producer': 'Microsoft® Word 2016', 'creator': 'Microsoft® Word 2016', 'creationdate': '2022-06-16T20:06:13+05:30', 'source': 'BAJHLIP23020V012223.pdf', 'file_path': 'BAJHLIP23020V012223.pdf', 'total_pages': 49, 'format': 'PDF 1.5', 'title': '', 'author': 'Vinay Dhanokar/Head Office Pune/Corporate Communication/General', 'subject': '', 'keywords': '', 'moddate': '2022-06-16T20:06:13+05:30', 'trapped': '', 'modDate': \"D:20220616200613+05'30'\", 'creationDate': \"D:20220616200613+05'30'\", 'page': 19}\n",
      "\n",
      "--- Parent Chunk ---\n",
      "coverage. \n",
      "d. Coverage under the Policy after the expiry of 36 months for any pre-existing disease is subject to the same \n",
      "being declared at the time of application and accepted by Insurer. \n",
      " \n",
      "2) Specified disease/procedure waiting period (Code-Excl02) \n",
      "a. Expenses related to the treatment of the listed Conditions, surgeries/treatments shall be excluded until the \n",
      "expiry of 24 months of continuous coverage after the date of inception of the first Global Health Care Policy\n",
      "{'producer': 'Microsoft® Word 2016', 'creator': 'Microsoft® Word 2016', 'creationdate': '2022-06-16T20:06:13+05:30', 'source': 'BAJHLIP23020V012223.pdf', 'file_path': 'BAJHLIP23020V012223.pdf', 'total_pages': 49, 'format': 'PDF 1.5', 'title': '', 'author': 'Vinay Dhanokar/Head Office Pune/Corporate Communication/General', 'subject': '', 'keywords': '', 'moddate': '2022-06-16T20:06:13+05:30', 'trapped': '', 'modDate': \"D:20220616200613+05'30'\", 'creationDate': \"D:20220616200613+05'30'\", 'page': 23}\n",
      "\n",
      "--- Parent Chunk ---\n",
      "6) Obesity/Weight Control (Code- Excl06) \n",
      "a. Expenses related to the surgical treatment of obesity that does not fulfil all the below conditions: \n",
      "b. Surgery to be conducted is upon the advice of the Doctor \n",
      "c. The surgery/Procedure conducted should be supported by clinical protocols \n",
      "d. The member has to be 18 years of age or older and \n",
      "e. Body Mass Index (BMI); \n",
      "i. \n",
      "greater than or equal to 40 or \n",
      "ii.\n",
      "{'producer': 'Microsoft® Word 2016', 'creator': 'Microsoft® Word 2016', 'creationdate': '2022-06-16T20:06:13+05:30', 'source': 'BAJHLIP23020V012223.pdf', 'file_path': 'BAJHLIP23020V012223.pdf', 'total_pages': 49, 'format': 'PDF 1.5', 'title': '', 'author': 'Vinay Dhanokar/Head Office Pune/Corporate Communication/General', 'subject': '', 'keywords': '', 'moddate': '2022-06-16T20:06:13+05:30', 'trapped': '', 'modDate': \"D:20220616200613+05'30'\", 'creationDate': \"D:20220616200613+05'30'\", 'page': 20}\n",
      "\n",
      "--- Parent Chunk ---\n",
      "6) Obesity/Weight Control (Code-Excl06) \n",
      "a. Expenses related to the surgical treatment of obesity that does not fulfil all the below conditions: \n",
      "b. Surgery to be conducted is upon the advice of the Doctor \n",
      "c. The surgery/Procedure conducted should be supported by clinical protocols \n",
      "d. The member has to be 18 years of age or older and \n",
      "e. Body Mass Index (BMI); \n",
      "i. \n",
      "greater than or equal to 40 or \n",
      "ii.\n",
      "{'producer': 'Microsoft® Word 2016', 'creator': 'Microsoft® Word 2016', 'creationdate': '2022-06-16T20:06:13+05:30', 'source': 'BAJHLIP23020V012223.pdf', 'file_path': 'BAJHLIP23020V012223.pdf', 'total_pages': 49, 'format': 'PDF 1.5', 'title': '', 'author': 'Vinay Dhanokar/Head Office Pune/Corporate Communication/General', 'subject': '', 'keywords': '', 'moddate': '2022-06-16T20:06:13+05:30', 'trapped': '', 'modDate': \"D:20220616200613+05'30'\", 'creationDate': \"D:20220616200613+05'30'\", 'page': 24}\n"
     ]
    },
    {
     "name": "stderr",
     "output_type": "stream",
     "text": [
      "c:\\Users\\r\\OneDrive\\Desktop\\policy\\venv\\Lib\\site-packages\\torch\\nn\\modules\\module.py:1762: FutureWarning: `encoder_attention_mask` is deprecated and will be removed in version 4.55.0 for `BertSdpaSelfAttention.forward`.\n",
      "  return forward_call(*args, **kwargs)\n"
     ]
    }
   ],
   "source": [
    "query = \"Is eye surgery covered?\"\n",
    "retrieved_docs = retriever.invoke(query)\n",
    "\n",
    "print(f\"\\n--- Retrieved Documents for query: '{query}' ---\")\n",
    "for doc in retrieved_docs:\n",
    "    print(\"\\n--- Parent Chunk ---\")\n",
    "    print(doc.page_content)\n",
    "    # Notice the metadata contains the original source info\n",
    "    print(doc.metadata)"
   ]
  },
  {
   "cell_type": "code",
   "execution_count": 54,
   "id": "26e8deed",
   "metadata": {},
   "outputs": [
    {
     "name": "stdout",
     "output_type": "stream",
     "text": [
      "Asking question: Is eye surgery covered by this policy?\n"
     ]
    },
    {
     "name": "stderr",
     "output_type": "stream",
     "text": [
      "c:\\Users\\r\\OneDrive\\Desktop\\policy\\venv\\Lib\\site-packages\\torch\\nn\\modules\\module.py:1762: FutureWarning: `encoder_attention_mask` is deprecated and will be removed in version 4.55.0 for `BertSdpaSelfAttention.forward`.\n",
      "  return forward_call(*args, **kwargs)\n"
     ]
    },
    {
     "name": "stdout",
     "output_type": "stream",
     "text": [
      "\n",
      "--- Answer ---\n",
      "Based on the policy clauses and query details provided, I would make the following decision:\n",
      "\n",
      "* The policy specifically excludes coverage for \"Cost of Artificial Limbs\" under the clause for \"The cost of spectacles, contact lenses, hearing aids, crutches, dentures, artificial teeth and all other external appliances and/or devices...\"\n",
      "* However, it does not explicitly exclude coverage for eye surgery. In fact, the policy mentions \"spectacles\" and \"contact lenses\" which are related to eye care.\n",
      "* Additionally, the policy covers medical expenses incurred due to \"Act of Terrorism\", which could include eye injuries or surgeries resulting from such an event.\n",
      "* However, it also mentions a \"Specified disease/procedure waiting period\" of 24 months for certain treatments and surgeries, including listed Conditions.\n",
      "\n",
      "In light of this information, I would conclude that eye surgery may be covered under the policy, but only if it is not related to a pre-existing condition or a listed Condition that is subject to the 24-month waiting period. If the eye surgery is a result of an Act of Terrorism, it would likely be covered under the policy. However, if the surgery is due to a pre-existing condition or a listed Condition, it would be excluded or subject to the 24-month waiting period.\n",
      "\n",
      "To confirm coverage, I would need more specific information about the eye surgery, including the reason for the surgery, the extent of the injury or condition, and whether it is related to a pre-existing condition or a listed Condition.\n"
     ]
    }
   ],
   "source": [
    "import os\n",
    "from langchain_groq import ChatGroq\n",
    "from langchain.chains.combine_documents import create_stuff_documents_chain\n",
    "from langchain.chains import create_retrieval_chain\n",
    "from langchain_core.prompts import ChatPromptTemplate\n",
    "load_dotenv = True  # Ensure .env is loaded if needed\n",
    "\n",
    "# --- Prerequisite: Your existing 'retriever' object ---\n",
    "# This assumes you have the 'retriever' (ParentDocumentRetriever) \n",
    "# ready from our previous steps.\n",
    "\n",
    "# --- 1. Set up Groq API Key ---\n",
    "\n",
    "if \"GROQ_API_KEY\" not in os.environ:\n",
    "    print(\"Error: GROQ_API_KEY environment variable not set.\")\n",
    "else:\n",
    "    # --- 2. Initialize the Groq LLM ---\n",
    "    # Llama3 is a great, fast choice on Groq\n",
    "    llm = ChatGroq(model_name=\"llama3-8b-8192\")\n",
    "\n",
    "    # --- 3. Create a Prompt Template ---\n",
    "    prompt_template = \"\"\"\n",
    "    You are an insurance claim evaluator. Based on the policy clauses and query details provided, \n",
    "    make a decision about the insurance claim.\n",
    "    Context:\n",
    "    {context}\n",
    "        \n",
    "\n",
    "    Question:\n",
    "    {input}\n",
    "    \"\"\"\n",
    "    prompt = ChatPromptTemplate.from_template(prompt_template)\n",
    "\n",
    "    # --- 4. Create the RAG Chain ---\n",
    "    \n",
    "    # This chain takes the question and retrieved documents and generates an answer.\n",
    "    Youtube_chain = create_stuff_documents_chain(llm, prompt)\n",
    "\n",
    "    # This is the final chain that combines the retriever and the question-answer chain.\n",
    "    rag_chain = create_retrieval_chain(retriever, Youtube_chain)\n",
    "\n",
    "    # --- 5. Ask a Question ---\n",
    "    \n",
    "    query = \"Is eye surgery covered by this policy?\"\n",
    "    \n",
    "    print(f\"Asking question: {query}\")\n",
    "    \n",
    "    response = rag_chain.invoke({\"input\": query})\n",
    "\n",
    "    print(\"\\n--- Answer ---\")\n",
    "    print(response[\"answer\"])"
   ]
  },
  {
   "cell_type": "code",
   "execution_count": null,
   "id": "94863e5e",
   "metadata": {},
   "outputs": [],
   "source": [
    "def get_answer(query):\n",
    "    \"\"\"\n",
    "    Function to be called by the Gradio interface.\n",
    "    It takes a query and returns the answer from the RAG chain.\n",
    "    \"\"\"\n",
    "    if not rag_chain:\n",
    "        return \"Error: The RAG chain is not initialized. Please check your API keys and setup.\"\n",
    "    \n",
    "    print(f\"Received query: {query}\")\n",
    "    response = rag_chain.invoke({\"input\": query})\n",
    "    return response[\"answer\"]\n"
   ]
  },
  {
   "cell_type": "code",
   "execution_count": null,
   "id": "26bb4d8e",
   "metadata": {},
   "outputs": [
    {
     "name": "stdout",
     "output_type": "stream",
     "text": [
      "Launching Gradio interface...\n",
      "* Running on local URL:  http://127.0.0.1:7860\n",
      "* To create a public link, set `share=True` in `launch()`.\n"
     ]
    },
    {
     "data": {
      "text/html": [
       "<div><iframe src=\"http://127.0.0.1:7860/\" width=\"100%\" height=\"500\" allow=\"autoplay; camera; microphone; clipboard-read; clipboard-write;\" frameborder=\"0\" allowfullscreen></iframe></div>"
      ],
      "text/plain": [
       "<IPython.core.display.HTML object>"
      ]
     },
     "metadata": {},
     "output_type": "display_data"
    },
    {
     "data": {
      "text/plain": []
     },
     "execution_count": 13,
     "metadata": {},
     "output_type": "execute_result"
    }
   ],
   "source": [
    "import gradio as gr\n",
    "iface = gr.Interface(\n",
    "    fn=get_answer,\n",
    "    inputs=gr.Textbox(lines=2, placeholder=\"Ask a question about your policy...\"),\n",
    "    outputs=\"text\",\n",
    "    title=\"Policy Document Q&A 📄\",\n",
    "    description=\"This is a demo of a RAG system. Ask a question about the sample policy, and the AI will find the answer within the document.\",\n",
    "    examples=[\n",
    "        [\"Is eye surgery covered by this policy?\"],\n",
    "        [\"What is the annual deductible?\"],\n",
    "        [\"Are dental procedures covered?\"]\n",
    "    ]\n",
    ")\n",
    "\n",
    "# Launch the web UI\n",
    "print(\"Launching Gradio interface...\")\n",
    "iface.launch()"
   ]
  },
  {
   "cell_type": "code",
   "execution_count": 47,
   "id": "a6c1ffe7",
   "metadata": {},
   "outputs": [],
   "source": [
    "from langchain_qdrant import QdrantVectorStore\n",
    "from qdrant_client import QdrantClient\n",
    "from qdrant_client.http.models import Distance, VectorParams\n",
    "\n",
    "client = QdrantClient(\":memory:\")\n",
    "\n",
    "client.create_collection(\n",
    "    collection_name=\"demo_collection\",\n",
    "    vectors_config=VectorParams(size=384, distance=Distance.COSINE),\n",
    ")\n",
    "\n",
    "vector_store = QdrantVectorStore(\n",
    "    client=client,\n",
    "    collection_name=\"demo_collection\",\n",
    "    embedding=embeddings,\n",
    ")"
   ]
  },
  {
   "cell_type": "code",
   "execution_count": null,
   "id": "24e4b723",
   "metadata": {},
   "outputs": [],
   "source": []
  }
 ],
 "metadata": {
  "kernelspec": {
   "display_name": "venv",
   "language": "python",
   "name": "python3"
  },
  "language_info": {
   "codemirror_mode": {
    "name": "ipython",
    "version": 3
   },
   "file_extension": ".py",
   "mimetype": "text/x-python",
   "name": "python",
   "nbconvert_exporter": "python",
   "pygments_lexer": "ipython3",
   "version": "3.12.1"
  }
 },
 "nbformat": 4,
 "nbformat_minor": 5
}
